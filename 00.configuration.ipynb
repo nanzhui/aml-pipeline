{
 "cells": [
  {
   "cell_type": "markdown",
   "metadata": {},
   "source": [
    "# Installation and configuration of the SDK\n",
    "\n",
    "## Prerequisite:\n",
    "We have installed all python packages required to run the notebooks of this usability study in the conda environment `azureml`.\n",
    "**Please make sure that you are running all notebooks in the `azureml` conda environment.** Make sure you see 'Python [default]' or 'Python [conda env:Azureml]' in the top right corner. If you don't, please select the 'Python [conda env:azureml]' from Kernel/change Kernel menu above.\n",
    "\n",
    "**NOTE**: Your conda environment could be different. Please follow this article to set up a [development environment](https://docs.microsoft.com/en-us/azure/machine-learning/service/how-to-choose-a-dev-environment) if needed.\n",
    "\n",
    "## Reference:\n",
    "To get more information about a function, class or module, we recommend using the python help() function or to refer to the documentation.\n"
   ]
  },
  {
   "cell_type": "markdown",
   "metadata": {},
   "source": [
    "**Run each cell below by clicking the Run button above, run icon on the top left side of the cell, or pressing Shift+ENTER while the cell has focus. While the cell is running, you will see a asterisk (\\*) near it. Wait for the cells to finish: the asterisk will turn to a number.**"
   ]
  },
  {
   "cell_type": "code",
   "execution_count": 1,
   "metadata": {},
   "outputs": [
    {
     "name": "stdout",
     "output_type": "stream",
     "text": [
      "Help on property:\n",
      "\n",
      "    Lists all compute targets in the workspace\n",
      "    \n",
      "    :return: Dict with keys as compute target name and value as compute target within the workspace\n",
      "    :rtype: dict{str:azureml.core.compute.ComputeTarget}\n",
      "\n"
     ]
    }
   ],
   "source": [
    "# example of calling help on the AzureML Workspace class\n",
    "from azureml.core import Workspace\n",
    "help(Workspace.compute_targets)"
   ]
  },
  {
   "cell_type": "code",
   "execution_count": 2,
   "metadata": {
    "scrolled": true
   },
   "outputs": [
    {
     "name": "stdout",
     "output_type": "stream",
     "text": [
      "SDK Version: 0.0.0+dev\n"
     ]
    }
   ],
   "source": [
    "# Check core SDK version number for debugging purposes\n",
    "import azureml.core\n",
    "\n",
    "print(\"SDK Version:\", azureml.core.VERSION)"
   ]
  },
  {
   "cell_type": "markdown",
   "metadata": {},
   "source": [
    "## Content of this Notebook\n",
    "In this example you will create an Azure Machine Learning Workspace and initialize your notebook directory to easily use this workspace.  Typically you will only need to run this once per notebook directory, and all other notebooks in this directory or any sub-directories will automatically use the settings you indicate here.\n",
    "\n",
    "## Initialize an Azure ML Workspace\n",
    "### What is an Azure ML Workspace and why do I need one?\n",
    "\n",
    "An [AML Workspace](https://docs.microsoft.com/en-us/python/api/azureml-core/azureml.core.workspace(class%29) is an Azure resource that organaizes and coordinates the actions of many other Azure resources to assist in executing and sharing machine learning workflows.  In particular, an AML Workspace coordinates storage, databases, and compute resources providing added functionality for machine learning experimentation, operationalization, and the monitoring of operationalized models.\n",
    "\n",
    "### What do I need?\n",
    "\n",
    "In order to use an AML Workspace, first you need access to an Azure Subscription. Inside your subscription, you will need access to a _resource group_, which organizes Azure resources and provides a default region for the resources in a group.\n",
    "\n",
    "To create or access an Azure ML Workspace, you will need to import the AML library and the following information:\n",
    "* A name for your workspace\n",
    "* Your subscription id\n",
    "* The resource group name\n",
    "* Azure region you want to create the workspace\n",
    "\n",
    "Please specify the Azure subscription Id, resource group name, workspace name, and the region in which you want to create the workspace. Please use `eastus2` during this study.\n",
    "\n",
    "For this usability study, we have given you access to the following subscription and resoure group:\n",
    "\n",
    "    subscription_id = \"15ae9cb6-95c1-483d-a0e3-b1a1a3b06324\"\n",
    "    resource_group = \"PipelinesUsabilityStudy\"\n",
    "    workspace_region = \"eastus2\"\n",
    "\n",
    "You are free to use your subscription id and resource group if you do not have access to the subscription above.\n",
    "\n",
    "**Enter your alias below as the name of the workspace.**"
   ]
  },
  {
   "cell_type": "code",
   "execution_count": 13,
   "metadata": {},
   "outputs": [
    {
     "name": "stdout",
     "output_type": "stream",
     "text": [
      "Variables set\n"
     ]
    }
   ],
   "source": [
    "subscription_id = \"15ae9cb6-95c1-483d-a0e3-b1a1a3b06324\" # AzureML Nursery\n",
    "resource_group = \"PipelinesUsabilityStudy\"\n",
    "workspace_region = \"eastus2\"\n",
    "\n",
    "# Use your alias as the workspace_name\n",
    "workspace_name = \"sanpil\"\n",
    "\n",
    "# subscription_id = \"fac34303-435d-4486-8c3f-7094d82a0b60\" # Boston PM\n",
    "# resource_group = \"hshapiro_rg\"\n",
    "# workspace_region = \"eastus2euap\"\n",
    "# workspace_name = \"hshapiroWorkspace\"\n",
    "\n",
    "print(\"Variables set\")"
   ]
  },
  {
   "cell_type": "markdown",
   "metadata": {},
   "source": [
    "## Creating a workspace\n",
    "This cell will [create a workspace](https://docs.microsoft.com/en-us/python/api/azureml-core/azureml.core.workspace(class%29) for you in a subscription provided you have the correct permissions. If you already have created the AML Workspace you want to use, the code below will just retrieve it.\n",
    "\n",
    "**The below code will fail only if**:\n",
    "- you do not have permission to create a workspace in the resource group OR\n",
    "- you are not a subscription owner or contributor and no Azure ML workspaces have ever been created in this subscription\n",
    "\n",
    "We have provided you with the right access to the resource group and subscription, so in case of an error, please double-check the subscription_id, resource_group and region used.\n",
    "\n",
    "**Note: the creation of a workspace can take more than 30 seconds -- please wait for the call to complete before moving to the next cell**\n",
    "\n",
    "**You will get taken to a new tab to perform Azure device login. Please enter your full Microsoft email for the user ID.**\n"
   ]
  },
  {
   "cell_type": "code",
   "execution_count": 14,
   "metadata": {},
   "outputs": [
    {
     "name": "stdout",
     "output_type": "stream",
     "text": [
      "If you see a failure from this call, please wait for this cell to finish running.\n",
      "***IF YOU SEE THIS MESSAGE, YOU GOT A WORKSPACE!***\n",
      "got workspace. name: sanpil , location: eastus2\n"
     ]
    }
   ],
   "source": [
    "# import the Workspace class and check the azureml SDK version\n",
    "from azureml.core import Workspace\n",
    "\n",
    "# Syntax\n",
    "# Workspace(subscription_id, resource_group, workspace_name, auth=None, _location=None, _disable_service_check=False)\n",
    "\n",
    "# get the workspace, if exists\n",
    "try:\n",
    "    # This will fail when called the first time when the workspace doesn't exist\n",
    "    # If so, just wait we will make the next call to create one.\n",
    "    print(\"If you see a failure from this call, please wait for this cell to finish running.\")\n",
    "    ws = Workspace.get(workspace_name, subscription_id=subscription_id, resource_group=resource_group)\n",
    "except:\n",
    "# create workspace, if does not exist.\n",
    "    ws = Workspace.create(workspace_name, \n",
    "                          subscription_id=subscription_id,\n",
    "                          resource_group=resource_group, \n",
    "                          location=workspace_region)\n",
    "\n",
    "print(\"***IF YOU SEE THIS MESSAGE, YOU GOT A WORKSPACE!***\")\n",
    "print(\"got workspace. name:\", ws.name, \", location:\", ws.location)"
   ]
  },
  {
   "cell_type": "markdown",
   "metadata": {},
   "source": [
    "### Wait for this call to finish before proceeding (you will see the asterisk turning to a number).\n",
    "\n",
    "Great -- you have created your own workspace. Now, spend some time looking at what it has to offer by executing some of its methods. At the beginning your workspace will not have much attached to it, but over the course of these tutorial notebooks, you will see more and more things being added."
   ]
  },
  {
   "cell_type": "code",
   "execution_count": 15,
   "metadata": {},
   "outputs": [
    {
     "name": "stdout",
     "output_type": "stream",
     "text": [
      "Datastores: {'workspacefilestore': <azureml.data.azure_storage_datastore.AzureFileDatastore object at 0x000001FAE648F1D0>, 'workspaceblobstore': <azureml.data.azure_storage_datastore.AzureBlobDatastore object at 0x000001FAE6549FD0>, 'videos': <azureml.data.azure_storage_datastore.AzureBlobDatastore object at 0x000001FAE6549198>, 'models': <azureml.data.azure_storage_datastore.AzureBlobDatastore object at 0x000001FAE639ACF8>}\n",
      "Default datastore: <azureml.data.azure_storage_datastore.AzureFileDatastore object at 0x000001FAE648F1D0>\n",
      "Compute Targets: {'cpudsvm': <azureml.core.compute.dsvm.DsvmCompute object at 0x000001FAE6538DD8>, 'batchai': <azureml.core.compute.batchai.BatchAiCompute object at 0x000001FAE6538240>}\n"
     ]
    }
   ],
   "source": [
    "# datastores attached to the workspace (will just contain the default datastore)\n",
    "print(\"Datastores:\", ws.datastores)\n",
    "\n",
    "# the default datastore attached to this workspace\n",
    "print(\"Default datastore:\", ws.get_default_datastore())\n",
    "\n",
    "# the compute targets of this datastore (empty for a new workspace)\n",
    "print(\"Compute Targets:\", ws.compute_targets)"
   ]
  },
  {
   "cell_type": "markdown",
   "metadata": {},
   "source": [
    "## Save your workspace configuration to a config file\n",
    "You can write a configuration file to the default configuration location, `./aml_config/config.json` -- later, you can just load the configuration from this file to save you some typing.\n",
    "\n",
    "**We are writing the configuration file to all the subdirectories that we plan to use today.**"
   ]
  },
  {
   "cell_type": "code",
   "execution_count": 16,
   "metadata": {},
   "outputs": [
    {
     "name": "stdout",
     "output_type": "stream",
     "text": [
      "Wrote the config file config.json to: C:\\repos\\AzureMLUsabilityStudy\\pipeline\\01.tutorials\\aml_config\\config.json\n",
      "Wrote the config file config.json to: C:\\repos\\AzureMLUsabilityStudy\\pipeline\\02.tasks\\aml_config\\config.json\n",
      "Wrote the config file config.json to: C:\\repos\\AzureMLUsabilityStudy\\pipeline\\03.solutions\\aml_config\\config.json\n",
      "Wrote the config file config.json to: C:\\repos\\AzureMLUsabilityStudy\\pipeline\\05.advanced\\aml_config\\config.json\n"
     ]
    }
   ],
   "source": [
    "# persist the subscription id, resource group name, and workspace name in aml_config/config.json.\n",
    "ws.write_config()\n",
    "ws.write_config(\"./../02.tasks/\")\n",
    "ws.write_config(\"./../03.solutions/\")\n",
    "ws.write_config(\"./../05.advanced/\")"
   ]
  },
  {
   "cell_type": "markdown",
   "metadata": {},
   "source": [
    "You can then load the workspace from this config file from any notebook in the current directory.\n",
    "\n",
    "**Your workspace details are loaded from the saved file and being printed below.**"
   ]
  },
  {
   "cell_type": "code",
   "execution_count": 17,
   "metadata": {
    "scrolled": true
   },
   "outputs": [
    {
     "name": "stdout",
     "output_type": "stream",
     "text": [
      "Found the config file in: C:\\repos\\AzureMLUsabilityStudy\\pipeline\\01.tutorials\\aml_config\\config.json\n"
     ]
    },
    {
     "data": {
      "text/plain": [
       "{'id': '/subscriptions/15ae9cb6-95c1-483d-a0e3-b1a1a3b06324/resourceGroups/PipelinesUsabilityStudy/providers/Microsoft.MachineLearningServices/workspaces/sanpil',\n",
       " 'name': 'sanpil',\n",
       " 'location': 'eastus2',\n",
       " 'type': 'Microsoft.MachineLearningServices/workspaces',\n",
       " 'description': '',\n",
       " 'friendlyName': 'sanpil',\n",
       " 'containerRegistry': '/subscriptions/15ae9cb6-95c1-483d-a0e3-b1a1a3b06324/resourcegroups/pipelinesusabilitystudy/providers/microsoft.containerregistry/registries/sanpilacrvlhfcuac',\n",
       " 'keyVault': '/subscriptions/15ae9cb6-95c1-483d-a0e3-b1a1a3b06324/resourcegroups/pipelinesusabilitystudy/providers/microsoft.keyvault/vaults/sanpilkeyvaultcopunkhv',\n",
       " 'applicationInsights': '/subscriptions/15ae9cb6-95c1-483d-a0e3-b1a1a3b06324/resourcegroups/pipelinesusabilitystudy/providers/microsoft.insights/components/sanpilinsightsjxsbybrm',\n",
       " 'batchaiWorkspace': '/subscriptions/15ae9cb6-95c1-483d-a0e3-b1a1a3b06324/resourcegroups/pipelinesusabilitystudy/providers/microsoft.batchai/workspaces/sanpilbatchai_lltumllv',\n",
       " 'identityPrincipalId': 'ffa7736a-2011-4b13-b7f4-6b15c8bd834b',\n",
       " 'identityTenantId': '72f988bf-86f1-41af-91ab-2d7cd011db47',\n",
       " 'identityType': 'SystemAssigned',\n",
       " 'storageAccount': '/subscriptions/15ae9cb6-95c1-483d-a0e3-b1a1a3b06324/resourcegroups/pipelinesusabilitystudy/providers/microsoft.storage/storageaccounts/sanpilstoragegznpdaxh'}"
      ]
     },
     "execution_count": 17,
     "metadata": {},
     "output_type": "execute_result"
    }
   ],
   "source": [
    "# load workspace configuratio from ./aml_config/config.json file\n",
    "my_workspace = Workspace.from_config()\n",
    "my_workspace.get_details()"
   ]
  },
  {
   "cell_type": "markdown",
   "metadata": {},
   "source": [
    "## Success!\n",
    "Great, you are ready to move on to the rest of the notebooks."
   ]
  },
  {
   "cell_type": "code",
   "execution_count": null,
   "metadata": {},
   "outputs": [],
   "source": []
  }
 ],
 "metadata": {
  "kernelspec": {
   "display_name": "Python [default]",
   "language": "python",
   "name": "python3"
  },
  "language_info": {
   "codemirror_mode": {
    "name": "ipython",
    "version": 3
   },
   "file_extension": ".py",
   "mimetype": "text/x-python",
   "name": "python",
   "nbconvert_exporter": "python",
   "pygments_lexer": "ipython3",
   "version": "3.6.6"
  }
 },
 "nbformat": 4,
 "nbformat_minor": 2
}

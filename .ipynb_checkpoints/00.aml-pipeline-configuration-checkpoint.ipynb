{
 "cells": [
  {
   "cell_type": "markdown",
   "metadata": {},
   "source": [
    "Copyright (c) Microsoft Corporation. All rights reserved.  \n",
    "Licensed under the MIT License."
   ]
  },
  {
   "cell_type": "markdown",
   "metadata": {},
   "source": [
    "# Installation and configuration of the SDK\n",
    "\n",
    "## Prerequisite:\n",
    "We have installed all python packages required to run the notebooks of this usability study in the conda environment `azureml`.\n",
    "**Please make sure that you are running all notebooks in the `azureml` conda environment.** Make sure you see 'Python [default]' or 'Python [conda env:Azureml]' in the top right corner. If you don't, please select the 'Python [conda env:azureml]' from Kernel/change Kernel menu above.\n",
    "\n",
    "**NOTE**: Your conda environment could be different. Please follow this article to set up a [development environment](https://docs.microsoft.com/en-us/azure/machine-learning/service/how-to-choose-a-dev-environment) if needed.\n",
    "\n",
    "## Reference:\n",
    "To get more information about a function, class or module, we recommend using the python help() function or to refer to the documentation.\n"
   ]
  },
  {
   "cell_type": "markdown",
   "metadata": {},
   "source": [
    "**Run each cell below by clicking the Run button above, run icon on the top left side of the cell, or pressing Shift+ENTER while the cell has focus. While the cell is running, you will see a asterisk (\\*) near it. Wait for the cells to finish: the asterisk will turn to a number.**"
   ]
  },
  {
   "cell_type": "code",
   "execution_count": null,
   "metadata": {},
   "outputs": [],
   "source": [
    "# example of calling help on the AzureML Workspace class\n",
    "from azureml.core import Workspace\n",
    "help(Workspace.compute_targets)"
   ]
  },
  {
   "cell_type": "code",
   "execution_count": null,
   "metadata": {
    "scrolled": true
   },
   "outputs": [],
   "source": [
    "# Check core SDK version number for debugging purposes\n",
    "import azureml.core\n",
    "\n",
    "print(\"SDK Version:\", azureml.core.VERSION)"
   ]
  },
  {
   "cell_type": "markdown",
   "metadata": {},
   "source": [
    "## Content of this Notebook\n",
    "In this example you will create an Azure Machine Learning Workspace and initialize your notebook directory to easily use this workspace.  Typically you will only need to run this once per notebook directory, and all other notebooks in this directory or any sub-directories will automatically use the settings you indicate here.\n",
    "\n",
    "## Initialize an Azure ML Workspace\n",
    "### What is an Azure ML Workspace and why do I need one?\n",
    "\n",
    "An [AML Workspace](https://docs.microsoft.com/en-us/python/api/azureml-core/azureml.core.workspace(class%29) is an Azure resource that organaizes and coordinates the actions of many other Azure resources to assist in executing and sharing machine learning workflows.  In particular, an AML Workspace coordinates storage, databases, and compute resources providing added functionality for machine learning experimentation, operationalization, and the monitoring of operationalized models.\n",
    "\n",
    "### What do I need?\n",
    "\n",
    "In order to use an AML Workspace, first you need access to an Azure Subscription. Inside your subscription, you will need access to a _resource group_, which organizes Azure resources and provides a default region for the resources in a group.\n",
    "\n",
    "To create or access an Azure ML Workspace, you will need to import the AML library and the following information:\n",
    "* A name for your workspace\n",
    "* Your subscription id\n",
    "* The resource group name\n",
    "* Azure region you want to create the workspace\n",
    "\n",
    "Please specify the Azure subscription Id, resource group name, workspace name, and the region in which you want to create the workspace. Please use `eastus2` during this study.\n",
    "\n",
    "For this usability study, we have given you access to the following subscription and resoure group:\n",
    "\n",
    "    subscription_id = \"15ae9cb6-95c1-483d-a0e3-b1a1a3b06324\"\n",
    "    resource_group = \"PipelinesUsabilityStudy\"\n",
    "    workspace_region = \"eastus2\"\n",
    "\n",
    "You are free to use your subscription id and resource group if you do not have access to the subscription above.\n",
    "\n",
    "**Enter your alias below as the name of the workspace.**"
   ]
  },
  {
   "cell_type": "code",
   "execution_count": null,
   "metadata": {},
   "outputs": [],
   "source": [
    "subscription_id = \"<your subscription>\" \n",
    "resource_group = \"<your rg>\"\n",
    "workspace_region = \"eastus2\"\n",
    "\n",
    "# Use your alias as the workspace_name\n",
    "workspace_name = \"<your alias>\"\n",
    "\n",
    "print(\"Variables set\")"
   ]
  },
  {
   "cell_type": "markdown",
   "metadata": {},
   "source": [
    "## Creating a workspace\n",
    "This cell will [create a workspace](https://docs.microsoft.com/en-us/python/api/azureml-core/azureml.core.workspace(class%29) for you in a subscription provided you have the correct permissions. If you already have created the AML Workspace you want to use, the code below will just retrieve it.\n",
    "\n",
    "**The below code will fail only if**:\n",
    "- you do not have permission to create a workspace in the resource group OR\n",
    "- you are not a subscription owner or contributor and no Azure ML workspaces have ever been created in this subscription\n",
    "\n",
    "We have provided you with the right access to the resource group and subscription, so in case of an error, please double-check the subscription_id, resource_group and region used.\n",
    "\n",
    "**Note: the creation of a workspace can take more than 30 seconds -- please wait for the call to complete before moving to the next cell**\n",
    "\n",
    "**You will get taken to a new tab to perform Azure device login. Please enter your full Microsoft email for the user ID.**\n"
   ]
  },
  {
   "cell_type": "code",
   "execution_count": null,
   "metadata": {},
   "outputs": [],
   "source": [
    "# import the Workspace class and check the azureml SDK version\n",
    "from azureml.core import Workspace\n",
    "\n",
    "# Syntax\n",
    "# Workspace(subscription_id, resource_group, workspace_name, auth=None, _location=None, _disable_service_check=False)\n",
    "\n",
    "# get the workspace, if exists\n",
    "try:\n",
    "    # This will fail when called the first time when the workspace doesn't exist\n",
    "    # If so, just wait we will make the next call to create one.\n",
    "    print(\"If you see a failure from this call, please wait for this cell to finish running.\")\n",
    "    ws = Workspace.get(workspace_name, subscription_id=subscription_id, resource_group=resource_group)\n",
    "except:\n",
    "# create workspace, if does not exist.\n",
    "    ws = Workspace.create(workspace_name, \n",
    "                          subscription_id=subscription_id,\n",
    "                          resource_group=resource_group, \n",
    "                          location=workspace_region)\n",
    "\n",
    "print(\"***IF YOU SEE THIS MESSAGE, YOU GOT A WORKSPACE!***\")\n",
    "print(\"got workspace. name:\", ws.name, \", location:\", ws.location)"
   ]
  },
  {
   "cell_type": "markdown",
   "metadata": {},
   "source": [
    "### Wait for this call to finish before proceeding (you will see the asterisk turning to a number).\n",
    "\n",
    "Great -- you have created your own workspace. Now, spend some time looking at what it has to offer by executing some of its methods. At the beginning your workspace will not have much attached to it, but over the course of these tutorial notebooks, you will see more and more things being added."
   ]
  },
  {
   "cell_type": "code",
   "execution_count": null,
   "metadata": {},
   "outputs": [],
   "source": [
    "# datastores attached to the workspace (will just contain the default datastore)\n",
    "print(\"Datastores:\", ws.datastores)\n",
    "\n",
    "# the default datastore attached to this workspace\n",
    "print(\"Default datastore:\", ws.get_default_datastore())\n",
    "\n",
    "# the compute targets of this datastore (empty for a new workspace)\n",
    "print(\"Compute Targets:\", ws.compute_targets)"
   ]
  },
  {
   "cell_type": "markdown",
   "metadata": {},
   "source": [
    "## Save your workspace configuration to a config file\n",
    "You can write a configuration file to the default configuration location, `./aml_config/config.json` -- later, you can just load the configuration from this file to save you some typing.\n",
    "\n",
    "**We are writing the configuration file to all the subdirectories that we plan to use today.**"
   ]
  },
  {
   "cell_type": "code",
   "execution_count": null,
   "metadata": {},
   "outputs": [],
   "source": [
    "# persist the subscription id, resource group name, and workspace name in aml_config/config.json.\n",
    "ws.write_config()"
   ]
  },
  {
   "cell_type": "markdown",
   "metadata": {},
   "source": [
    "You can then load the workspace from this config file from any notebook in the current directory.\n",
    "\n",
    "**Your workspace details are loaded from the saved file and being printed below.**"
   ]
  },
  {
   "cell_type": "code",
   "execution_count": null,
   "metadata": {
    "scrolled": true
   },
   "outputs": [],
   "source": [
    "# load workspace configuratio from ./aml_config/config.json file\n",
    "my_workspace = Workspace.from_config()\n",
    "my_workspace.get_details()"
   ]
  },
  {
   "cell_type": "markdown",
   "metadata": {},
   "source": [
    "## Installing Packages\n",
    "These packages are used at later stages."
   ]
  },
  {
   "cell_type": "code",
   "execution_count": 1,
   "metadata": {},
   "outputs": [
    {
     "name": "stdout",
     "output_type": "stream",
     "text": [
      "Requirement already satisfied: pandas in c:\\anaconda3\\envs\\cli_dev\\lib\\site-packages (0.23.3)\n",
      "Requirement already satisfied: python-dateutil>=2.5.0 in c:\\anaconda3\\envs\\cli_dev\\lib\\site-packages (from pandas) (2.7.3)\n",
      "Requirement already satisfied: numpy>=1.9.0 in c:\\anaconda3\\envs\\cli_dev\\lib\\site-packages (from pandas) (1.14.5)\n",
      "Requirement already satisfied: pytz>=2011k in c:\\anaconda3\\envs\\cli_dev\\lib\\site-packages (from pandas) (2018.5)\n",
      "Requirement already satisfied: six>=1.5 in c:\\anaconda3\\envs\\cli_dev\\lib\\site-packages (from python-dateutil>=2.5.0->pandas) (1.11.0)\n",
      "Requirement already satisfied: requests in c:\\anaconda3\\envs\\cli_dev\\lib\\site-packages (2.19.1)\n",
      "Requirement already satisfied: urllib3<1.24,>=1.21.1 in c:\\anaconda3\\envs\\cli_dev\\lib\\site-packages (from requests) (1.23)\n",
      "Requirement already satisfied: chardet<3.1.0,>=3.0.2 in c:\\anaconda3\\envs\\cli_dev\\lib\\site-packages (from requests) (3.0.4)\n",
      "Requirement already satisfied: certifi>=2017.4.17 in c:\\anaconda3\\envs\\cli_dev\\lib\\site-packages (from requests) (2018.4.16)\n",
      "Requirement already satisfied: idna<2.8,>=2.5 in c:\\anaconda3\\envs\\cli_dev\\lib\\site-packages (from requests) (2.7)\n"
     ]
    }
   ],
   "source": [
    "!pip install pandas\n",
    "!pip install requests"
   ]
  },
  {
   "cell_type": "markdown",
   "metadata": {},
   "source": [
    "## Enabling Widgets"
   ]
  },
  {
   "cell_type": "code",
   "execution_count": 2,
   "metadata": {},
   "outputs": [
    {
     "name": "stderr",
     "output_type": "stream",
     "text": [
      "Installing c:\\repos\\azuremlcli\\src\\azureml-train-widgets\\azureml\\train\\widgets\\static -> azureml_train_widgets\n",
      "Up to date: C:\\Users\\sanpil\\AppData\\Roaming\\jupyter\\nbextensions\\azureml_train_widgets\\extension.js\n",
      "Out of date: C:\\Users\\sanpil\\AppData\\Roaming\\jupyter\\nbextensions\\azureml_train_widgets\\index.js\n",
      "Copying: c:\\repos\\azuremlcli\\src\\azureml-train-widgets\\azureml\\train\\widgets\\static\\index.js -> C:\\Users\\sanpil\\AppData\\Roaming\\jupyter\\nbextensions\\azureml_train_widgets\\index.js\n",
      "Out of date: C:\\Users\\sanpil\\AppData\\Roaming\\jupyter\\nbextensions\\azureml_train_widgets\\index.js.map\n",
      "Copying: c:\\repos\\azuremlcli\\src\\azureml-train-widgets\\azureml\\train\\widgets\\static\\index.js.map -> C:\\Users\\sanpil\\AppData\\Roaming\\jupyter\\nbextensions\\azureml_train_widgets\\index.js.map\n",
      "Up to date: C:\\Users\\sanpil\\AppData\\Roaming\\jupyter\\nbextensions\\azureml_train_widgets\\packages\\labextension\\azureml_train_widgets-1.0.0.tgz\n",
      "- Validating: ok\n",
      "\n",
      "    To initialize this nbextension in the browser every time the notebook (or other app) loads:\n",
      "    \n",
      "          jupyter nbextension enable azureml.train.widgets --user --py\n",
      "    \n",
      "Enabling notebook extension azureml_train_widgets/extension...\n",
      "      - Validating: ok\n"
     ]
    }
   ],
   "source": [
    "!jupyter nbextension install --py --user azureml.train.widgets\n",
    "!jupyter nbextension enable --py --user azureml.train.widgets"
   ]
  },
  {
   "cell_type": "markdown",
   "metadata": {},
   "source": [
    "## Success!\n",
    "Great, you are ready to move on to the rest of the notebooks."
   ]
  },
  {
   "cell_type": "code",
   "execution_count": null,
   "metadata": {},
   "outputs": [],
   "source": []
  }
 ],
 "metadata": {
  "kernelspec": {
   "display_name": "Python [default]",
   "language": "python",
   "name": "python3"
  },
  "language_info": {
   "codemirror_mode": {
    "name": "ipython",
    "version": 3
   },
   "file_extension": ".py",
   "mimetype": "text/x-python",
   "name": "python",
   "nbconvert_exporter": "python",
   "pygments_lexer": "ipython3",
   "version": "3.6.6"
  }
 },
 "nbformat": 4,
 "nbformat_minor": 2
}

{
 "cells": [
  {
   "cell_type": "markdown",
   "metadata": {},
   "source": [
    "Copyright (c) Microsoft Corporation. All rights reserved.\n",
    "\n",
    "Licensed under the MIT License."
   ]
  },
  {
   "cell_type": "markdown",
   "metadata": {},
   "source": [
    "# Using different computes for different nodes of the pipeline\n",
    "This example, uses a gpu dsvm and cpu dsvm to do training (gpu) and prediction (cpu) of a pre-trained mobilenet on the flowers dataset. It consists of following steps:\n",
    "1. Train mobilenet on gpu using a pretrained mobilenet on imagenet. (GPU batch ai)\n",
    "2. Predict on a hold out set of images (CPU batch ai). This hold out set has been put in a public blob container"
   ]
  },
  {
   "cell_type": "code",
   "execution_count": null,
   "metadata": {},
   "outputs": [],
   "source": [
    "import os\n",
    "from azureml.core import Workspace, Run, Experiment\n",
    "\n",
    "ws = Workspace.from_config()\n",
    "print('Workspace name: ' + ws.name, \n",
    "      'Azure region: ' + ws.location, \n",
    "      'Subscription id: ' + ws.subscription_id, \n",
    "      'Resource group: ' + ws.resource_group, sep = '\\n')\n",
    "\n",
    "# Also create a Project and attach to Workspace\n",
    "project_folder = \"scripts\"\n",
    "run_history_name = project_folder\n",
    "\n",
    "if not os.path.isdir(project_folder):\n",
    "    os.mkdir(project_folder)"
   ]
  },
  {
   "cell_type": "code",
   "execution_count": null,
   "metadata": {},
   "outputs": [],
   "source": [
    "from azureml.core.compute import BatchAiCompute, ComputeTarget\n",
    "from azureml.core.datastore import Datastore\n",
    "from azureml.data.data_reference import DataReference\n",
    "from azureml.pipeline.core import Pipeline, PipelineData\n",
    "from azureml.pipeline.steps import PythonScriptStep"
   ]
  },
  {
   "cell_type": "code",
   "execution_count": null,
   "metadata": {},
   "outputs": [],
   "source": [
    "gpu_cluster_name = \"gpu-cluster\"\n",
    "try:\n",
    "    gpu_cluster = BatchAiCompute(ws, gpu_cluster_name)\n",
    "    print(\"found existing cluster.\")\n",
    "except:\n",
    "    print(\"creating new cluster\")\n",
    "    provisioning_config = BatchAiCompute.provisioning_configuration(vm_size = \"STANDARD_NC6\",\n",
    "                                                                    autoscale_enabled = True,\n",
    "                                                                    cluster_min_nodes = 1, \n",
    "                                                                    cluster_max_nodes = 1)\n",
    "\n",
    "    # create the cluster\n",
    "    gpu_cluster = ComputeTarget.create(ws, gpu_cluster_name, provisioning_config)\n",
    "    gpu_cluster.wait_for_completion(show_output=True)\n",
    "\n",
    "cpu_cluster_name = \"cpu-cluster\"\n",
    "try:\n",
    "    cpu_cluster = BatchAiCompute(ws, cpu_cluster_name)\n",
    "    print(\"found existing cluster.\")\n",
    "except:\n",
    "    print(\"creating new cluster\")\n",
    "    provisioning_config = BatchAiCompute.provisioning_configuration(vm_size = \"STANDARD_D2_v2\",\n",
    "                                                                    autoscale_enabled = True,\n",
    "                                                                    cluster_min_nodes = 3, \n",
    "                                                                    cluster_max_nodes = 3)\n",
    "\n",
    "    # create the cluster\n",
    "    cpu_cluster = ComputeTarget.create(ws, cpu_cluster_name, provisioning_config)\n",
    "    cpu_cluster.wait_for_completion(show_output=True)    "
   ]
  },
  {
   "cell_type": "markdown",
   "metadata": {},
   "source": [
    "# Python scripts\n",
    "We define several scripts that will be run on remote computes:\n",
    "- `retrain.py` and `label_image.py` from `tensorflow` repo: Contain code for training from a pre-trained model. The scripts take care of downloading the pretrained model using `tensorflow-hub`, resizing to the input size required by the model and applying transformations to the images.\n",
    "- `predict_dir.py`: Run evaluation on a directory of images in a blob container."
   ]
  },
  {
   "cell_type": "markdown",
   "metadata": {},
   "source": [
    "# Training code"
   ]
  },
  {
   "cell_type": "markdown",
   "metadata": {},
   "source": [
    "We use transfer learning code from tensorflow repo with a minor modification to take an output directory where the graph and labels are written to. The file called `retrain.py` is included in this directory with the original [here](https://raw.githubusercontent.com/tensorflow/hub/r0.1/examples/image_retraining/retrain.py)  "
   ]
  },
  {
   "cell_type": "code",
   "execution_count": null,
   "metadata": {},
   "outputs": [],
   "source": [
    "import shutil\n",
    "shutil.copy(\"retrain.py\", project_folder)\n",
    "shutil.copy(\"label_image.py\", project_folder)"
   ]
  },
  {
   "cell_type": "markdown",
   "metadata": {},
   "source": [
    "# Prediction code"
   ]
  },
  {
   "cell_type": "markdown",
   "metadata": {},
   "source": [
    "We use the following file for prediction. It uses `label_image.py` from tensorflow's repo. The original file is [here](https://raw.githubusercontent.com/tensorflow/tensorflow/master/tensorflow/examples/label_image/label_image.py)"
   ]
  },
  {
   "cell_type": "code",
   "execution_count": null,
   "metadata": {},
   "outputs": [],
   "source": [
    "%%writefile $project_folder/predict_dir.py\n",
    "import argparse\n",
    "import numpy as np\n",
    "import os\n",
    "import shutil\n",
    "import tensorflow as tf\n",
    "import label_image\n",
    "\n",
    "def predict_dir(args):\n",
    "    print(\"Inside predict\")\n",
    "    graph_file = os.path.join(args.train_dir, \"output_graph.pb\")\n",
    "    output_labels_file = os.path.join(args.train_dir, \"output_labels.txt\")\n",
    "    \n",
    "    graph = label_image.load_graph(graph_file)\n",
    "    input_layer = \"Placeholder\"\n",
    "    output_layer = \"final_result\"\n",
    "    \n",
    "    results_file = os.path.join(args.output_dir, \"results.txt\")\n",
    "    with open(results_file, \"w\") as fp:\n",
    "        for filename in os.listdir(args.dir):\n",
    "            full_path = os.path.join(args.dir, filename)\n",
    "            t = label_image.read_tensor_from_image_file(\n",
    "                full_path,\n",
    "                input_height=224,\n",
    "                input_width=224,\n",
    "                input_mean=128,\n",
    "                input_std=128)\n",
    "            input_name = \"import/\" + input_layer\n",
    "            output_name = \"import/\" + output_layer\n",
    "            input_operation = graph.get_operation_by_name(input_name)\n",
    "            output_operation = graph.get_operation_by_name(output_name)\n",
    "\n",
    "            with tf.Session(graph=graph) as sess:\n",
    "                results = sess.run(output_operation.outputs[0], {\n",
    "                    input_operation.outputs[0]: t\n",
    "                })\n",
    "            results = np.squeeze(results)\n",
    "\n",
    "            top_k = results.argsort()[-5:][::-1]\n",
    "            labels = label_image.load_labels(output_labels_file)\n",
    "            fp.write(\"Filename: {}\\n\".format(filename))\n",
    "            for i in top_k:\n",
    "                fp.write(\"{}, {}\\n\".format(labels[i], results[i]))\n",
    "    \n",
    "    shutil.copy(results_file, \"./outputs/\")\n",
    "\n",
    "parser = argparse.ArgumentParser()\n",
    "parser.add_argument(\"--dir\", help=\"directory to be processed\")\n",
    "parser.add_argument(\"--train_dir\", help=\"directory containing graph and labels to be executed\")\n",
    "parser.add_argument(\"--output_dir\", help=\"output directory\")\n",
    "\n",
    "args = parser.parse_args()\n",
    "os.makedirs(args.output_dir, exist_ok=True)\n",
    "predict_dir(args)"
   ]
  },
  {
   "cell_type": "markdown",
   "metadata": {},
   "source": [
    "# Specify the python packages to install\n",
    "We use tensorflow that has a specific version dependency which needs a certain version of cublas. Therefore for gpu, we use a prebuilt image that has those dependencies. We also use tensorflow-hub which makes retrieving prebuilt models easy.\n",
    "\n",
    "We define two runconfig environments for each of the dsvm. "
   ]
  },
  {
   "cell_type": "code",
   "execution_count": null,
   "metadata": {},
   "outputs": [],
   "source": [
    "from azureml.core.runconfig import CondaDependencies, RunConfiguration\n",
    "cd = CondaDependencies.create(pip_packages=['tensorflow==1.10', 'azureml-defaults'])\n",
    "cpu_runconfig = RunConfiguration(conda_dependencies=cd)\n",
    "cpu_runconfig.environment.docker.enabled = True\n",
    "\n",
    "cd = CondaDependencies.create(pip_packages=['tensorflow-gpu==1.10', \"tensorflow-hub\", 'azureml-defaults'])\n",
    "gpu_runconfig = RunConfiguration(conda_dependencies=cd)\n",
    "gpu_runconfig.environment.docker.enabled = True\n",
    "gpu_runconfig.environment.docker.gpu_support = True\n",
    "gpu_runconfig.environment.docker.base_image = \"himanshuaml/tensorflow_conda:latest-gpu-py3\""
   ]
  },
  {
   "cell_type": "markdown",
   "metadata": {},
   "source": [
    "# Define blob container that will store the outputs\n",
    "We use the default blob datastore that comes with the workspace. "
   ]
  },
  {
   "cell_type": "code",
   "execution_count": null,
   "metadata": {},
   "outputs": [],
   "source": [
    "default_datastore = ws.get_default_datastore()"
   ]
  },
  {
   "cell_type": "markdown",
   "metadata": {},
   "source": [
    "# Evaluation\n",
    "This is a public container shared by us that contains a few images downloaded from the web."
   ]
  },
  {
   "cell_type": "code",
   "execution_count": null,
   "metadata": {},
   "outputs": [],
   "source": [
    "sample_images_account_name = \"pipelinedata\"\n",
    "sample_images = Datastore.register_azure_blob_container(ws, \"sampledata\", \"sampledata\", \n",
    "                                                        account_name=sample_images_account_name, \n",
    "                                                        overwrite=True)"
   ]
  },
  {
   "cell_type": "markdown",
   "metadata": {},
   "source": [
    "# Define inputs to the steps"
   ]
  },
  {
   "cell_type": "code",
   "execution_count": null,
   "metadata": {},
   "outputs": [],
   "source": [
    "dataset_dir = DataReference(data_reference_name=\"dataset_dir\", datastore=sample_images, path_on_datastore=\"flower_photos\", mode=\"download\")\n",
    "train_dir = PipelineData(\"train_dir\", datastore=default_datastore)\n",
    "output_dir = PipelineData(\"output_dir\", datastore=default_datastore)\n",
    "pred_dir = DataReference(datastore=sample_images, data_reference_name=\"sampledata\", path_on_datastore=\"flowers\", mode=\"download\")"
   ]
  },
  {
   "cell_type": "code",
   "execution_count": null,
   "metadata": {},
   "outputs": [],
   "source": [
    "train_step = PythonScriptStep(\n",
    "    name=\"train\",\n",
    "    script_name=\"retrain.py\",\n",
    "    arguments=[\"--image_dir\", dataset_dir, \n",
    "               \"--tfhub_module\", \"https://tfhub.dev/google/imagenet/mobilenet_v2_130_224/feature_vector/2\",\n",
    "               \"--train_dir\",train_dir,\n",
    "               \"--how_many_training_steps\", 50\n",
    "              ],\n",
    "    inputs=[dataset_dir],\n",
    "    outputs=[train_dir],\n",
    "    source_directory=project_folder,\n",
    "    target=gpu_cluster,\n",
    "    runconfig=gpu_runconfig\n",
    ")\n",
    "\n",
    "test_step = PythonScriptStep(\n",
    "    name=\"evaluation\",\n",
    "    script_name=\"predict_dir.py\",\n",
    "    arguments=[\"--train_dir\", train_dir, \"--dir\", pred_dir, \"--output_dir\", output_dir],\n",
    "    inputs=[train_dir, pred_dir],\n",
    "    outputs=[output_dir],\n",
    "    source_directory=project_folder,\n",
    "    target=cpu_cluster,\n",
    "    runconfig=cpu_runconfig\n",
    ")"
   ]
  },
  {
   "cell_type": "code",
   "execution_count": null,
   "metadata": {},
   "outputs": [],
   "source": [
    "pipeline = Pipeline(workspace=ws, steps=[test_step])"
   ]
  },
  {
   "cell_type": "code",
   "execution_count": null,
   "metadata": {},
   "outputs": [],
   "source": [
    "pipeline.validate()\n",
    "pipeline_run = Experiment(ws, \"train_test_images\").submit(pipeline)"
   ]
  },
  {
   "cell_type": "markdown",
   "metadata": {},
   "source": [
    "# Monitor using widget"
   ]
  },
  {
   "cell_type": "code",
   "execution_count": null,
   "metadata": {},
   "outputs": [],
   "source": [
    "from azureml.train.widgets import RunDetails\n",
    "RunDetails(pipeline_run).show()"
   ]
  },
  {
   "cell_type": "markdown",
   "metadata": {},
   "source": [
    "# Show some results"
   ]
  },
  {
   "cell_type": "code",
   "execution_count": null,
   "metadata": {},
   "outputs": [],
   "source": [
    "pipeline_run.wait_for_completion()"
   ]
  },
  {
   "cell_type": "code",
   "execution_count": null,
   "metadata": {},
   "outputs": [],
   "source": [
    "node_run = list(pipeline_run.get_children())[0]\n",
    "node_run.download_file(\"./outputs/results.txt\")\n",
    "\n",
    "# Show first few lines of file\n",
    "with open(\"results.txt\") as fp:\n",
    "    lines = fp.readlines()\n",
    "\n",
    "print(\"\\n\".join(lines[:10]))"
   ]
  },
  {
   "cell_type": "markdown",
   "metadata": {},
   "source": [
    "# Optionally clean compute resources"
   ]
  },
  {
   "cell_type": "code",
   "execution_count": null,
   "metadata": {},
   "outputs": [],
   "source": [
    "#gpu_cluster.delete()\n",
    "#cpu_cluster.delete()"
   ]
  }
 ],
 "metadata": {
  "authors": [
   {
    "name": "hichando"
   }
  ],
  "kernelspec": {
   "display_name": "Python [conda env:cli_dev]",
   "language": "python",
   "name": "conda-env-cli_dev-py"
  },
  "language_info": {
   "codemirror_mode": {
    "name": "ipython",
    "version": 3
   },
   "file_extension": ".py",
   "mimetype": "text/x-python",
   "name": "python",
   "nbconvert_exporter": "python",
   "pygments_lexer": "ipython3",
   "version": "3.6.6"
  }
 },
 "nbformat": 4,
 "nbformat_minor": 2
}
